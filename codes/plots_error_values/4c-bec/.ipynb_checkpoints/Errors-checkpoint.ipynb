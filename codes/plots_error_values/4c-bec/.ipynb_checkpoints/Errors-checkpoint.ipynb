{
 "cells": [
  {
   "cell_type": "code",
   "execution_count": 1,
   "id": "2ef791be",
   "metadata": {},
   "outputs": [],
   "source": [
    "import numpy as np\n",
    "from sklearn.metrics import mean_squared_error\n",
    "import csv"
   ]
  },
  {
   "cell_type": "code",
   "execution_count": 3,
   "id": "bbf098f2",
   "metadata": {},
   "outputs": [],
   "source": [
    "u1 = np.loadtxt(\"4c_bec_u_pre.dat\")\n",
    "v1 = np.loadtxt(\"4c_bec_v_pre.dat\")\n",
    "u2 = np.loadtxt(\"4c_bec_p_pre.dat\")\n",
    "v2 = np.loadtxt(\"4c_bec_s_pre.dat\")\n",
    "u3 = np.loadtxt(\"4c_bec_a_pre.dat\")\n",
    "v3 = np.loadtxt(\"4c_bec_b_pre.dat\")\n",
    "u4 = np.loadtxt(\"4c_bec_c_pre.dat\")\n",
    "v4 = np.loadtxt(\"4c_bec_d_pre.dat\")\n",
    "\n",
    "u1_exact = np.loadtxt(\"4c_bec_u_ori.dat\")\n",
    "v1_exact = np.loadtxt(\"4c_bec_v_ori.dat\")\n",
    "u2_exact = np.loadtxt(\"4c_bec_p_ori.dat\")\n",
    "v2_exact = np.loadtxt(\"4c_bec_s_ori.dat\")\n",
    "u3_exact = np.loadtxt(\"4c_bec_a_ori.dat\")\n",
    "v3_exact = np.loadtxt(\"4c_bec_b_ori.dat\")\n",
    "u4_exact = np.loadtxt(\"4c_bec_c_ori.dat\")\n",
    "v4_exact = np.loadtxt(\"4c_bec_d_ori.dat\")\n",
    "\n",
    "q1 = np.loadtxt(\"4c_bec_q1_pre.dat\")\n",
    "q2 = np.loadtxt(\"4c_bec_q2_pre.dat\")\n",
    "q3 = np.loadtxt(\"4c_bec_q3_pre.dat\")\n",
    "q4 = np.loadtxt(\"4c_bec_q4_pre.dat\")\n",
    "\n",
    "q1_exact = np.loadtxt(\"4c_bec_q1_ori.dat\")\n",
    "q2_exact = np.loadtxt(\"4c_bec_q2_ori.dat\")\n",
    "q3_exact = np.loadtxt(\"4c_bec_q3_ori.dat\")\n",
    "q4_exact = np.loadtxt(\"4c_bec_q4_ori.dat\")"
   ]
  },
  {
   "cell_type": "code",
   "execution_count": 4,
   "id": "820592f9",
   "metadata": {},
   "outputs": [],
   "source": [
    "def rmse(pre, ori):\n",
    "    return np.sqrt(mean_squared_error(pre, ori))\n",
    "\n",
    "def L2(pre,ori):\n",
    "    return np.linalg.norm(ori-pre, 2)/np.linalg.norm(ori, 2)"
   ]
  },
  {
   "cell_type": "code",
   "execution_count": 5,
   "id": "c8de222b",
   "metadata": {},
   "outputs": [],
   "source": [
    "li_title = ['u1', 'v1', 'q1', 'u2', 'v2', 'q2', 'u3', 'v3', 'q3', 'u4', 'v4', 'q4']\n",
    "li = [u1, v1, q1, u2, v2, q2, u3, v3, q3, u4, v4, q4]\n",
    "li_exact = [u1_exact, v1_exact, q1_exact, u2_exact, v2_exact, q2_exact, u3_exact, v3_exact, q3_exact, u4_exact, v4_exact, q4_exact]"
   ]
  },
  {
   "cell_type": "code",
   "execution_count": 7,
   "id": "9965cbb7",
   "metadata": {},
   "outputs": [],
   "source": [
    "file = open('Errors_4c_BEC.csv', \"w\")\n",
    "\n",
    "writer = csv.writer(file)\n",
    "writer.writerow([\"sol\", \"L2\", \"RMSE\"])\n",
    "\n",
    "for i in range(0,len(li)):\n",
    "    writer.writerow([li_title[i], L2(li[i], li_exact[i]), rmse(li[i], li_exact[i])])\n",
    "\n",
    "\n",
    "file.close()"
   ]
  },
  {
   "cell_type": "code",
   "execution_count": null,
   "id": "9b6ef768",
   "metadata": {},
   "outputs": [],
   "source": []
  }
 ],
 "metadata": {
  "kernelspec": {
   "display_name": "Python 3 (ipykernel)",
   "language": "python",
   "name": "python3"
  },
  "language_info": {
   "codemirror_mode": {
    "name": "ipython",
    "version": 3
   },
   "file_extension": ".py",
   "mimetype": "text/x-python",
   "name": "python",
   "nbconvert_exporter": "python",
   "pygments_lexer": "ipython3",
   "version": "3.9.13"
  }
 },
 "nbformat": 4,
 "nbformat_minor": 5
}
